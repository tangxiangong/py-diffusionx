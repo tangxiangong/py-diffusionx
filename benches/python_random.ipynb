{
 "cells": [
  {
   "cell_type": "code",
   "execution_count": 1,
   "id": "f2fe410e-3a96-415c-8f72-41699deb66a9",
   "metadata": {},
   "outputs": [],
   "source": [
    "import numpy as np"
   ]
  },
  {
   "cell_type": "code",
   "execution_count": 2,
   "id": "81cc23b5-9bcc-45e8-a4cc-c3169d5e66e9",
   "metadata": {},
   "outputs": [
    {
     "name": "stdout",
     "output_type": "stream",
     "text": [
      "199 ms ± 433 μs per loop (mean ± std. dev. of 7 runs, 1 loop each)\n"
     ]
    }
   ],
   "source": [
    "%timeit np.random.normal(size=10_000_000)"
   ]
  },
  {
   "cell_type": "code",
   "execution_count": 3,
   "id": "df796782-b5df-44b0-acbb-7704336ab74a",
   "metadata": {},
   "outputs": [
    {
     "name": "stdout",
     "output_type": "stream",
     "text": [
      "66.6 ms ± 388 μs per loop (mean ± std. dev. of 7 runs, 10 loops each)\n"
     ]
    }
   ],
   "source": [
    "%timeit np.random.uniform(size=10_000_000)"
   ]
  },
  {
   "cell_type": "code",
   "execution_count": 4,
   "id": "609f2df0",
   "metadata": {},
   "outputs": [],
   "source": [
    "from scipy.stats import levy_stable"
   ]
  },
  {
   "cell_type": "code",
   "execution_count": 5,
   "id": "4d8c3ae0",
   "metadata": {},
   "outputs": [],
   "source": [
    "dist = levy_stable(alpha=0.7, beta=1.0, loc=0.0, scale=1.0)"
   ]
  },
  {
   "cell_type": "code",
   "execution_count": 6,
   "id": "2cffa5f1",
   "metadata": {},
   "outputs": [
    {
     "name": "stdout",
     "output_type": "stream",
     "text": [
      "1.67 s ± 7.38 ms per loop (mean ± std. dev. of 7 runs, 1 loop each)\n"
     ]
    }
   ],
   "source": [
    "%timeit dist.rvs(size=10_000_000)"
   ]
  },
  {
   "cell_type": "code",
   "execution_count": 7,
   "id": "6118bf66",
   "metadata": {},
   "outputs": [],
   "source": [
    "from diffusionx import random"
   ]
  },
  {
   "cell_type": "code",
   "execution_count": 8,
   "id": "6a074541",
   "metadata": {},
   "outputs": [
    {
     "name": "stdout",
     "output_type": "stream",
     "text": [
      "34.3 ms ± 3.18 ms per loop (mean ± std. dev. of 7 runs, 10 loops each)\n"
     ]
    }
   ],
   "source": [
    "%timeit random.uniform(10_000_000)"
   ]
  },
  {
   "cell_type": "code",
   "execution_count": 9,
   "id": "178b4e52",
   "metadata": {},
   "outputs": [
    {
     "name": "stdout",
     "output_type": "stream",
     "text": [
      "41.2 ms ± 1.4 ms per loop (mean ± std. dev. of 7 runs, 10 loops each)\n"
     ]
    }
   ],
   "source": [
    "%timeit random.randn(10_000_000)"
   ]
  },
  {
   "cell_type": "code",
   "execution_count": 11,
   "id": "640406f9",
   "metadata": {},
   "outputs": [
    {
     "name": "stdout",
     "output_type": "stream",
     "text": [
      "293 ms ± 18.2 ms per loop (mean ± std. dev. of 7 runs, 1 loop each)\n"
     ]
    }
   ],
   "source": [
    "%timeit random.skew_stable_rand(0.7, 10_000_000)"
   ]
  },
  {
   "cell_type": "code",
   "execution_count": 1,
   "id": "6e6de87a",
   "metadata": {},
   "outputs": [],
   "source": [
    "from stable_numba import sample_stables"
   ]
  },
  {
   "cell_type": "code",
   "execution_count": 2,
   "id": "a8ddcb45",
   "metadata": {},
   "outputs": [
    {
     "name": "stdout",
     "output_type": "stream",
     "text": [
      "1.15 s ± 300 μs per loop (mean ± std. dev. of 7 runs, 1 loop each)\n"
     ]
    }
   ],
   "source": [
    "%timeit sample_stables(0.7, 1.0, 1.0, 0.0, 10_000_000)"
   ]
  },
  {
   "cell_type": "code",
   "execution_count": null,
   "id": "6e785df4",
   "metadata": {},
   "outputs": [],
   "source": []
  }
 ],
 "metadata": {
  "kernelspec": {
   "display_name": "Python 3 (ipykernel)",
   "language": "python",
   "name": "python3"
  },
  "language_info": {
   "codemirror_mode": {
    "name": "ipython",
    "version": 3
   },
   "file_extension": ".py",
   "mimetype": "text/x-python",
   "name": "python",
   "nbconvert_exporter": "python",
   "pygments_lexer": "ipython3",
   "version": "3.12.9"
  }
 },
 "nbformat": 4,
 "nbformat_minor": 5
}
