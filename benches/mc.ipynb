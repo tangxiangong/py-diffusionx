{
 "cells": [
  {
   "cell_type": "code",
   "execution_count": 4,
   "id": "56fb33cd-ed35-43a7-bbda-2339bc5f1a6b",
   "metadata": {},
   "outputs": [],
   "source": [
    "from diffusionx.simulation import Bm"
   ]
  },
  {
   "cell_type": "code",
   "execution_count": 5,
   "id": "ac19f675-cb7b-41f5-a45e-63c5d76ede26",
   "metadata": {},
   "outputs": [],
   "source": [
    "bm = Bm()"
   ]
  },
  {
   "cell_type": "code",
   "execution_count": 6,
   "id": "11c6f70c-6cb1-4696-80b6-fc55222b99e3",
   "metadata": {},
   "outputs": [
    {
     "name": "stdout",
     "output_type": "stream",
     "text": [
      "138 μs ± 360 ns per loop (mean ± std. dev. of 7 runs, 10,000 loops each)\n"
     ]
    }
   ],
   "source": [
    "%timeit bm.simulate(100, 0.01)"
   ]
  },
  {
   "cell_type": "code",
   "execution_count": 9,
   "id": "d4ed9538-bf46-47dd-aa34-6667ab973672",
   "metadata": {},
   "outputs": [],
   "source": [
    "from mc import simulate_bm"
   ]
  },
  {
   "cell_type": "code",
   "execution_count": 10,
   "id": "907712e5-2831-44e9-a096-0b5498ffb6bf",
   "metadata": {},
   "outputs": [
    {
     "name": "stdout",
     "output_type": "stream",
     "text": [
      "127 μs ± 1.04 μs per loop (mean ± std. dev. of 7 runs, 10,000 loops each)\n"
     ]
    }
   ],
   "source": [
    "%timeit simulate_bm(100, 0.01)"
   ]
  },
  {
   "cell_type": "code",
   "execution_count": null,
   "id": "a25877ff-5d7a-4f41-b7ba-0bbf603f3b7b",
   "metadata": {},
   "outputs": [],
   "source": []
  }
 ],
 "metadata": {
  "kernelspec": {
   "display_name": "Python 3 (ipykernel)",
   "language": "python",
   "name": "python3"
  },
  "language_info": {
   "codemirror_mode": {
    "name": "ipython",
    "version": 3
   },
   "file_extension": ".py",
   "mimetype": "text/x-python",
   "name": "python",
   "nbconvert_exporter": "python",
   "pygments_lexer": "ipython3",
   "version": "3.12.9"
  }
 },
 "nbformat": 4,
 "nbformat_minor": 5
}
